{
 "cells": [
  {
   "cell_type": "markdown",
   "metadata": {},
   "source": [
    "## Reading the csv file\n"
   ]
  },
  {
   "cell_type": "code",
   "execution_count": 1,
   "metadata": {},
   "outputs": [
    {
     "data": {
      "text/plain": [
       "['year,month,date_of_month,day_of_week,births',\n",
       " '1994,1,1,6,8096',\n",
       " '1994,1,2,7,7772',\n",
       " '1994,1,3,1,10142',\n",
       " '1994,1,4,2,11248',\n",
       " '1994,1,5,3,11053',\n",
       " '1994,1,6,4,11406',\n",
       " '1994,1,7,5,11251',\n",
       " '1994,1,8,6,8653',\n",
       " '1994,1,9,7,7910']"
      ]
     },
     "execution_count": 1,
     "metadata": {},
     "output_type": "execute_result"
    }
   ],
   "source": [
    "file=open('US_births_1994-2003_CDC_NCHS.csv','r').read()\n",
    "data=file.split('\\n')\n",
    "data[:10]"
   ]
  },
  {
   "cell_type": "markdown",
   "metadata": {},
   "source": [
    "## Creating read_csv function "
   ]
  },
  {
   "cell_type": "code",
   "execution_count": 2,
   "metadata": {},
   "outputs": [
    {
     "data": {
      "text/plain": [
       "[[1994, 1, 1, 6, 8096],\n",
       " [1994, 1, 2, 7, 7772],\n",
       " [1994, 1, 3, 1, 10142],\n",
       " [1994, 1, 4, 2, 11248],\n",
       " [1994, 1, 5, 3, 11053],\n",
       " [1994, 1, 6, 4, 11406],\n",
       " [1994, 1, 7, 5, 11251],\n",
       " [1994, 1, 8, 6, 8653],\n",
       " [1994, 1, 9, 7, 7910],\n",
       " [1994, 1, 10, 1, 10498]]"
      ]
     },
     "execution_count": 2,
     "metadata": {},
     "output_type": "execute_result"
    }
   ],
   "source": [
    "def read_csv(n):\n",
    "    f=open(n,'r')\n",
    "    file=f.read() # read file\n",
    "    data=file.split('\\n') # split the string on the newline character (\"\\n\")\n",
    "    string_list=data[1:] # remove the header row\n",
    "    final_list=[]\n",
    "    for row in string_list:\n",
    "        int_fields=[]\n",
    "        string_fields=row.split(',')\n",
    "        for value in string_fields:\n",
    "            int_fields.append(int(value)) # convert each value to an integer\n",
    "        final_list.append(int_fields)\n",
    "    return final_list\n",
    "\n",
    "cdc_list=read_csv(\"US_births_1994-2003_CDC_NCHS.csv\")\n",
    "cdc_list[:10]         "
   ]
  },
  {
   "cell_type": "markdown",
   "metadata": {},
   "source": [
    "## Creating  the month_births function:\n",
    "- calculates the total number of births that occured in each month, across all of the years in the dataset."
   ]
  },
  {
   "cell_type": "code",
   "execution_count": 3,
   "metadata": {},
   "outputs": [
    {
     "data": {
      "text/plain": [
       "{1: 3232517,\n",
       " 2: 3018140,\n",
       " 3: 3322069,\n",
       " 4: 3185314,\n",
       " 5: 3350907,\n",
       " 6: 3296530,\n",
       " 7: 3498783,\n",
       " 8: 3525858,\n",
       " 9: 3439698,\n",
       " 10: 3378814,\n",
       " 11: 3171647,\n",
       " 12: 3301860}"
      ]
     },
     "execution_count": 3,
     "metadata": {},
     "output_type": "execute_result"
    }
   ],
   "source": [
    "def month_births(rows):\n",
    "    births_per_month={}\n",
    "    for row in rows:\n",
    "        if row[1] in births_per_month:\n",
    "            births_per_month[row[1]]+=row[4]\n",
    "        else:\n",
    "            births_per_month[row[1]]=row[4]\n",
    "            \n",
    "    return births_per_month \n",
    "\n",
    "cdc_month_births=month_births(cdc_list)           \n",
    "cdc_month_births"
   ]
  },
  {
   "cell_type": "markdown",
   "metadata": {},
   "source": [
    "## Creating the dow_births function:\n",
    "- calculates the total number of births for each unique day of the week."
   ]
  },
  {
   "cell_type": "code",
   "execution_count": 4,
   "metadata": {},
   "outputs": [
    {
     "data": {
      "text/plain": [
       "{6: 4562111,\n",
       " 7: 4079723,\n",
       " 1: 5789166,\n",
       " 2: 6446196,\n",
       " 3: 6322855,\n",
       " 4: 6288429,\n",
       " 5: 6233657}"
      ]
     },
     "execution_count": 4,
     "metadata": {},
     "output_type": "execute_result"
    }
   ],
   "source": [
    "def dow_births(rows):\n",
    "    births_per_dow={}\n",
    "    for row in rows:\n",
    "        if row[3] in births_per_dow:\n",
    "            births_per_dow[row[3]]+=row[4]\n",
    "        else:\n",
    "            births_per_dow[row[3]]=row[4]\n",
    "            \n",
    "    return births_per_dow\n",
    "\n",
    "cdc_day_births=dow_births(cdc_list)\n",
    "cdc_day_births\n",
    "    "
   ]
  },
  {
   "cell_type": "markdown",
   "metadata": {},
   "source": [
    "## Creating the calc_counts function:\n",
    "- a general function to calculate the totals based on columns"
   ]
  },
  {
   "cell_type": "code",
   "execution_count": 5,
   "metadata": {},
   "outputs": [
    {
     "name": "stdout",
     "output_type": "stream",
     "text": [
      "cdc_year_births {1994: 3952767, 1995: 3899589, 1996: 3891494, 1997: 3880894, 1998: 3941553, 1999: 3959417, 2000: 4058814, 2001: 4025933, 2002: 4021726, 2003: 4089950}\n",
      "**************\n",
      "cdc_month_births {1: 3232517, 2: 3018140, 3: 3322069, 4: 3185314, 5: 3350907, 6: 3296530, 7: 3498783, 8: 3525858, 9: 3439698, 10: 3378814, 11: 3171647, 12: 3301860}\n",
      "**************\n",
      "cdc_dom_births {1: 1276557, 2: 1288739, 3: 1304499, 4: 1288154, 5: 1299953, 6: 1304474, 7: 1310459, 8: 1312297, 9: 1303292, 10: 1320764, 11: 1314361, 12: 1318437, 13: 1277684, 14: 1320153, 15: 1319171, 16: 1315192, 17: 1324953, 18: 1326855, 19: 1318727, 20: 1324821, 21: 1322897, 22: 1317381, 23: 1293290, 24: 1288083, 25: 1272116, 26: 1284796, 27: 1294395, 28: 1307685, 29: 1223161, 30: 1202095, 31: 746696}\n",
      "**************\n",
      "cdc_dow_births {6: 4562111, 7: 4079723, 1: 5789166, 2: 6446196, 3: 6322855, 4: 6288429, 5: 6233657}\n"
     ]
    }
   ],
   "source": [
    "def calc_counts(data,column):\n",
    "    calc={}\n",
    "    for row in data:\n",
    "        if row[column] in calc:\n",
    "            calc[row[column]]+=row[4]\n",
    "        else:\n",
    "            calc[row[column]]=row[4]\n",
    "            \n",
    "    return calc\n",
    "\n",
    "cdc_year_births=calc_counts(cdc_list,0)\n",
    "cdc_month_births=calc_counts(cdc_list,1)\n",
    "cdc_dom_births=calc_counts(cdc_list,2)\n",
    "cdc_dow_births=calc_counts(cdc_list,3)\n",
    "\n",
    "print('cdc_year_births',cdc_year_births)\n",
    "print('**************')\n",
    "print('cdc_month_births',cdc_month_births)\n",
    "print('**************')\n",
    "print('cdc_dom_births',cdc_dom_births)\n",
    "print('**************')\n",
    "print('cdc_dow_births',cdc_dow_births)\n"
   ]
  },
  {
   "cell_type": "markdown",
   "metadata": {},
   "source": [
    "## Creating the max_min function:\n",
    "- calculate the min and max values for any dictionary that's passed in."
   ]
  },
  {
   "cell_type": "code",
   "execution_count": 6,
   "metadata": {},
   "outputs": [
    {
     "name": "stdout",
     "output_type": "stream",
     "text": [
      "cdc_year_births {'max': 4089950, 'min': 4089950}\n",
      "cdc_month_births {'max': 3525858, 'min': 3171647}\n",
      "cdc_dom_births {'max': 1326855, 'min': 746696}\n",
      "cdc_dow_births {'max': 6446196, 'min': 6233657}\n"
     ]
    }
   ],
   "source": [
    "def max_min(data):\n",
    "    max_data = 0\n",
    "    for i in data:\n",
    "        if data[i]>max_data:\n",
    "            max_data=data[i]\n",
    "            min_data=data[i]\n",
    "        if data[i]<min_data:\n",
    "            min_data=data[i]\n",
    "    return {'max':max_data,'min':min_data,}\n",
    "\n",
    "print('cdc_year_births',max_min(cdc_year_births ))\n",
    "print('cdc_month_births',max_min(cdc_month_births ))\n",
    "print('cdc_dom_births',max_min(cdc_dom_births ))\n",
    "print('cdc_dow_births',max_min(cdc_dow_births ))\n",
    "  "
   ]
  },
  {
   "cell_type": "markdown",
   "metadata": {},
   "source": [
    "## Creating the aspect function:\n",
    "- calculates the differences between consecutive values to show if number of births is increasing or decreasing across the years."
   ]
  },
  {
   "cell_type": "code",
   "execution_count": 7,
   "metadata": {},
   "outputs": [
    {
     "data": {
      "text/plain": [
       "{1994: 474732,\n",
       " 1995: -15152,\n",
       " 1996: -3319,\n",
       " 1997: -5421,\n",
       " 1998: 2936,\n",
       " 1999: -3791,\n",
       " 2000: 19809,\n",
       " 2001: -15866,\n",
       " 2002: -8158,\n",
       " 2003: 1675}"
      ]
     },
     "execution_count": 7,
     "metadata": {},
     "output_type": "execute_result"
    }
   ],
   "source": [
    "def aspect(data,col,index):\n",
    "    \n",
    "    \"\"\"\n",
    "    counting the total number of births \n",
    "    per month or per date_of_month or per day_of_week\n",
    "    across years   \n",
    "    \"\"\"\n",
    "    values={}\n",
    "    variation={}\n",
    "    for row in data:\n",
    "        if row[col]==index: \n",
    "            if row[0] in values: \n",
    "                values[row[0]]+=row[4] \n",
    "            else:\n",
    "                values[row[0]]=row[4] \n",
    "    \"\"\"\n",
    "    calculates the differences between consecutive values \n",
    "    to show if number of births is increasing or decreasing.  \n",
    "    \"\"\"\n",
    "\n",
    "    for i in values:\n",
    "        if i==1994:\n",
    "            variation[i]=values[i]\n",
    "        else:\n",
    "            variation[i]=values[i]-values[i-1]         \n",
    "    return variation\n",
    "\n",
    "\n",
    "# the number of births on Saturday each year \n",
    "# between 1994 and 2003\n",
    "aspect(cdc_list,3,6)"
   ]
  },
  {
   "cell_type": "markdown",
   "metadata": {},
   "source": [
    "## Combining the CDC data with the SSA data."
   ]
  },
  {
   "cell_type": "code",
   "execution_count": 8,
   "metadata": {},
   "outputs": [
    {
     "data": {
      "text/plain": [
       "[[2000, 1, 1, 6, 9083],\n",
       " [2000, 1, 2, 7, 8006],\n",
       " [2000, 1, 3, 1, 11363],\n",
       " [2000, 1, 4, 2, 13032],\n",
       " [2000, 1, 5, 3, 12558],\n",
       " [2000, 1, 6, 4, 12466],\n",
       " [2000, 1, 7, 5, 12516],\n",
       " [2000, 1, 8, 6, 8934],\n",
       " [2000, 1, 9, 7, 7949],\n",
       " [2000, 1, 10, 1, 11668]]"
      ]
     },
     "execution_count": 8,
     "metadata": {},
     "output_type": "execute_result"
    }
   ],
   "source": [
    "# reading the ssa data\n",
    "ssa_data = read_csv('US_births_2000-2014_SSA.csv')\n",
    "ssa_data[:10]"
   ]
  },
  {
   "cell_type": "markdown",
   "metadata": {},
   "source": [
    "**US_births_1994-2003_CDC_NCHS.csv** contains U.S. births data for the years 1994 to 2003, as provided by the Centers for Disease Control and Prevention's National Center for Health Statistics.\n",
    "\n",
    "**US_births_2000-2014_SSA.csv** contains U.S. births data for the years 2000 to 2014, as provided by the Social Security Administration, and it has the same structure as *US_births_1994-2003_CDC_NCHS.csv*\n",
    "\n",
    "- to deal with the overlapping time periods in the datasets, i choose to slice the cdc_list and keeping the rows for the years between 1994 and 1999 then adding the ssa_data."
   ]
  },
  {
   "cell_type": "code",
   "execution_count": 9,
   "metadata": {},
   "outputs": [
    {
     "name": "stdout",
     "output_type": "stream",
     "text": [
      "3652\n",
      "2191\n",
      "[1999, 12, 31, 5, 9335]\n",
      "[1999, 12, 31, 5, 9335]\n",
      "[2000, 1, 1, 6, 8843]\n"
     ]
    }
   ],
   "source": [
    "cdc_slice=[]\n",
    "for i in cdc_list:\n",
    "    if i[0]<2000:\n",
    "        cdc_slice.append(i)\n",
    "        \n",
    "print(len(cdc_list)) # the length of the cdc_list data\n",
    "print(len(cdc_slice)) # the length of the sliced data\n",
    "print(cdc_slice[-1]) # the last row in the sliced_data\n",
    "print(cdc_slice[len(cdc_slice)-1]) # the last row in the sliced_data\n",
    "print(cdc_list[len(cdc_slice)])  # the first row in the year 2000 from cdc_list "
   ]
  },
  {
   "cell_type": "code",
   "execution_count": 10,
   "metadata": {},
   "outputs": [],
   "source": [
    "combined_data = cdc_slice  # store the cdc_slice in a new list"
   ]
  },
  {
   "cell_type": "code",
   "execution_count": 11,
   "metadata": {},
   "outputs": [
    {
     "name": "stdout",
     "output_type": "stream",
     "text": [
      "5479\n",
      "7670\n",
      "[2000, 1, 1, 6, 9083]\n",
      "[2000, 1, 1, 6, 9083]\n"
     ]
    }
   ],
   "source": [
    "# adding each row from ssa_data to cobined_data\n",
    "\n",
    "for i in ssa_data:\n",
    "    combined_data.append(i)\n",
    "\n",
    "print(len(ssa_data)) # the lenght of the ssa_data\n",
    "print(len(combined_data)) # the length of the new combined data\n",
    "print(ssa_data[0]) # the first row in the year 2000\n",
    "print(combined_data[2191]) "
   ]
  },
  {
   "cell_type": "markdown",
   "metadata": {},
   "source": [
    "- 2191 is the length of cdc_slice list\n",
    "- the length of combined_data is equal to the sum of cdc_slice and ssa_data\n",
    "- the 2191th row in combined data is the first row from the ssa_data list"
   ]
  },
  {
   "cell_type": "code",
   "execution_count": 13,
   "metadata": {},
   "outputs": [
    {
     "data": {
      "text/plain": [
       "[[1999, 12, 23, 4, 10591],\n",
       " [1999, 12, 24, 5, 8046],\n",
       " [1999, 12, 25, 6, 6674],\n",
       " [1999, 12, 26, 7, 7432],\n",
       " [1999, 12, 27, 1, 11579],\n",
       " [1999, 12, 28, 2, 13158],\n",
       " [1999, 12, 29, 3, 12629],\n",
       " [1999, 12, 30, 4, 11935],\n",
       " [1999, 12, 31, 5, 9335],\n",
       " [2000, 1, 1, 6, 9083],\n",
       " [2000, 1, 2, 7, 8006],\n",
       " [2000, 1, 3, 1, 11363],\n",
       " [2000, 1, 4, 2, 13032],\n",
       " [2000, 1, 5, 3, 12558],\n",
       " [2000, 1, 6, 4, 12466],\n",
       " [2000, 1, 7, 5, 12516],\n",
       " [2000, 1, 8, 6, 8934]]"
      ]
     },
     "execution_count": 13,
     "metadata": {},
     "output_type": "execute_result"
    }
   ],
   "source": [
    "combined_data[2182:2199]"
   ]
  },
  {
   "cell_type": "code",
   "execution_count": null,
   "metadata": {},
   "outputs": [],
   "source": []
  }
 ],
 "metadata": {
  "anaconda-cloud": {},
  "kernelspec": {
   "display_name": "Python 3",
   "language": "python",
   "name": "python3"
  },
  "language_info": {
   "codemirror_mode": {
    "name": "ipython",
    "version": 3
   },
   "file_extension": ".py",
   "mimetype": "text/x-python",
   "name": "python",
   "nbconvert_exporter": "python",
   "pygments_lexer": "ipython3",
   "version": "3.6.5"
  }
 },
 "nbformat": 4,
 "nbformat_minor": 1
}
